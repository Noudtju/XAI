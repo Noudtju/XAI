{
 "cells": [
  {
   "cell_type": "code",
   "execution_count": 1,
   "id": "87279ee2",
   "metadata": {},
   "outputs": [],
   "source": [
    "import pandas as pd\n",
    "import re"
   ]
  },
  {
   "cell_type": "code",
   "execution_count": 14,
   "id": "cd4d2336",
   "metadata": {},
   "outputs": [
    {
     "name": "stdout",
     "output_type": "stream",
     "text": [
      "\n"
     ]
    }
   ],
   "source": [
    "with open(\"original.txt\", \"r\") as f:\n",
    "    content = f.read()\n",
    "    print(content)"
   ]
  },
  {
   "cell_type": "code",
   "execution_count": 16,
   "id": "bc547c1f",
   "metadata": {},
   "outputs": [
    {
     "name": "stdout",
     "output_type": "stream",
     "text": [
      "[]\n"
     ]
    }
   ],
   "source": [
    "with open(\"original.txt\", \"r\", encoding=\"utf-8\") as f:\n",
    "    lines = f.readlines()\n",
    "    print(lines[:5])"
   ]
  },
  {
   "cell_type": "code",
   "execution_count": 15,
   "id": "5d761382",
   "metadata": {},
   "outputs": [
    {
     "data": {
      "text/plain": [
       "''"
      ]
     },
     "execution_count": 15,
     "metadata": {},
     "output_type": "execute_result"
    }
   ],
   "source": [
    "content"
   ]
  },
  {
   "cell_type": "code",
   "execution_count": 17,
   "id": "7a082fd7",
   "metadata": {},
   "outputs": [
    {
     "name": "stdout",
     "output_type": "stream",
     "text": [
      "   class_id                  class_name  prototype_id  activation_score\n",
      "0         0  AM_General_Hummer_SUV_2000           227          1.204273\n",
      "1         0  AM_General_Hummer_SUV_2000           387          5.160657\n",
      "2         0  AM_General_Hummer_SUV_2000           572         34.427044\n",
      "3         1   Acura_Integra_Type_R_2001           115          1.196180\n",
      "4         1   Acura_Integra_Type_R_2001           166         13.278946\n"
     ]
    }
   ],
   "source": [
    "# Load the text file\n",
    "with open(\"original.txt\", \"r\") as f:\n",
    "    lines = f.readlines()\n",
    "\n",
    "# Prepare a list to collect rows\n",
    "data = []\n",
    "\n",
    "# Iterate over lines\n",
    "for line in lines:\n",
    "    # Extract class ID and class name\n",
    "    class_match = re.match(r\"Class (\\d+) \\(\\s*(.*?)\\s*\\):\", line)\n",
    "    if class_match:\n",
    "        class_id = int(class_match.group(1))\n",
    "        class_name = class_match.group(2)\n",
    "\n",
    "        # Extract all prototype tuples (id, score)\n",
    "        prototypes = re.findall(r\"\\((\\d+), ([\\d\\.eE+-]+)\\)\", line)\n",
    "        for proto_id, score in prototypes:\n",
    "            data.append({\n",
    "                \"class_id\": class_id,\n",
    "                \"class_name\": class_name,\n",
    "                \"prototype_id\": int(proto_id),\n",
    "                \"activation_score\": float(score)\n",
    "            })\n",
    "\n",
    "# Create DataFrame\n",
    "df = pd.DataFrame(data)\n",
    "\n",
    "# Show a sample\n",
    "print(df.head())"
   ]
  },
  {
   "cell_type": "code",
   "execution_count": 18,
   "id": "f4a22107",
   "metadata": {},
   "outputs": [
    {
     "data": {
      "application/vnd.microsoft.datawrangler.viewer.v0+json": {
       "columns": [
        {
         "name": "index",
         "rawType": "int64",
         "type": "integer"
        },
        {
         "name": "class_id",
         "rawType": "int64",
         "type": "integer"
        },
        {
         "name": "class_name",
         "rawType": "object",
         "type": "string"
        },
        {
         "name": "prototype_id",
         "rawType": "int64",
         "type": "integer"
        },
        {
         "name": "activation_score",
         "rawType": "float64",
         "type": "float"
        }
       ],
       "conversionMethod": "pd.DataFrame",
       "ref": "0bbc4be5-116f-4046-9679-2665acf611e0",
       "rows": [
        [
         "0",
         "0",
         "AM_General_Hummer_SUV_2000",
         "227",
         "1.2042725086212158"
        ],
        [
         "1",
         "0",
         "AM_General_Hummer_SUV_2000",
         "387",
         "5.160656929016113"
        ],
        [
         "2",
         "0",
         "AM_General_Hummer_SUV_2000",
         "572",
         "34.42704391479492"
        ],
        [
         "3",
         "1",
         "Acura_Integra_Type_R_2001",
         "115",
         "1.1961801052093506"
        ],
        [
         "4",
         "1",
         "Acura_Integra_Type_R_2001",
         "166",
         "13.278945922851562"
        ]
       ],
       "shape": {
        "columns": 4,
        "rows": 5
       }
      },
      "text/html": [
       "<div>\n",
       "<style scoped>\n",
       "    .dataframe tbody tr th:only-of-type {\n",
       "        vertical-align: middle;\n",
       "    }\n",
       "\n",
       "    .dataframe tbody tr th {\n",
       "        vertical-align: top;\n",
       "    }\n",
       "\n",
       "    .dataframe thead th {\n",
       "        text-align: right;\n",
       "    }\n",
       "</style>\n",
       "<table border=\"1\" class=\"dataframe\">\n",
       "  <thead>\n",
       "    <tr style=\"text-align: right;\">\n",
       "      <th></th>\n",
       "      <th>class_id</th>\n",
       "      <th>class_name</th>\n",
       "      <th>prototype_id</th>\n",
       "      <th>activation_score</th>\n",
       "    </tr>\n",
       "  </thead>\n",
       "  <tbody>\n",
       "    <tr>\n",
       "      <th>0</th>\n",
       "      <td>0</td>\n",
       "      <td>AM_General_Hummer_SUV_2000</td>\n",
       "      <td>227</td>\n",
       "      <td>1.204273</td>\n",
       "    </tr>\n",
       "    <tr>\n",
       "      <th>1</th>\n",
       "      <td>0</td>\n",
       "      <td>AM_General_Hummer_SUV_2000</td>\n",
       "      <td>387</td>\n",
       "      <td>5.160657</td>\n",
       "    </tr>\n",
       "    <tr>\n",
       "      <th>2</th>\n",
       "      <td>0</td>\n",
       "      <td>AM_General_Hummer_SUV_2000</td>\n",
       "      <td>572</td>\n",
       "      <td>34.427044</td>\n",
       "    </tr>\n",
       "    <tr>\n",
       "      <th>3</th>\n",
       "      <td>1</td>\n",
       "      <td>Acura_Integra_Type_R_2001</td>\n",
       "      <td>115</td>\n",
       "      <td>1.196180</td>\n",
       "    </tr>\n",
       "    <tr>\n",
       "      <th>4</th>\n",
       "      <td>1</td>\n",
       "      <td>Acura_Integra_Type_R_2001</td>\n",
       "      <td>166</td>\n",
       "      <td>13.278946</td>\n",
       "    </tr>\n",
       "  </tbody>\n",
       "</table>\n",
       "</div>"
      ],
      "text/plain": [
       "   class_id                  class_name  prototype_id  activation_score\n",
       "0         0  AM_General_Hummer_SUV_2000           227          1.204273\n",
       "1         0  AM_General_Hummer_SUV_2000           387          5.160657\n",
       "2         0  AM_General_Hummer_SUV_2000           572         34.427044\n",
       "3         1   Acura_Integra_Type_R_2001           115          1.196180\n",
       "4         1   Acura_Integra_Type_R_2001           166         13.278946"
      ]
     },
     "execution_count": 18,
     "metadata": {},
     "output_type": "execute_result"
    }
   ],
   "source": [
    "df.head()"
   ]
  }
 ],
 "metadata": {
  "kernelspec": {
   "display_name": "Python 3",
   "language": "python",
   "name": "python3"
  },
  "language_info": {
   "codemirror_mode": {
    "name": "ipython",
    "version": 3
   },
   "file_extension": ".py",
   "mimetype": "text/x-python",
   "name": "python",
   "nbconvert_exporter": "python",
   "pygments_lexer": "ipython3",
   "version": "3.12.9"
  }
 },
 "nbformat": 4,
 "nbformat_minor": 5
}
